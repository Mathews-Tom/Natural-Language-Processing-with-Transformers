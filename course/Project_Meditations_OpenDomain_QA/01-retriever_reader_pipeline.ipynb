{
 "cells": [
  {
   "cell_type": "markdown",
   "metadata": {},
   "source": [
    "# Retriever Reader Pipeline\n",
    "\n",
    "We've setup our Elasticsearch instance and are now ready to prepare the remainder of our ODQA pipeline - our *retriever* and *reader*.\n",
    "\n",
    "First we initialize the connection to our Elasticsearch document store."
   ]
  },
  {
   "cell_type": "code",
   "execution_count": 13,
   "metadata": {},
   "outputs": [],
   "source": [
    "from haystack.document_stores import ElasticsearchDocumentStore\n",
    "\n",
    "doc_store = ElasticsearchDocumentStore(\n",
    "    host='localhost',\n",
    "    username='', password='',\n",
    "    index='aurelius'\n",
    ")"
   ]
  },
  {
   "cell_type": "markdown",
   "metadata": {},
   "source": [
    "Then we initialize our retriever and reader models. We will be using [deepset/bert-base-cased-squad2](https://huggingface.co/deepset/bert-base-cased-squad2) as our reader model."
   ]
  },
  {
   "cell_type": "code",
   "execution_count": 14,
   "metadata": {},
   "outputs": [
    {
     "name": "stderr",
     "output_type": "stream",
     "text": [
      "WARNING:haystack.nodes.retriever.sparse:This class is now deprecated. Please use the BM25Retriever instead\n"
     ]
    }
   ],
   "source": [
    "from haystack.nodes import ElasticsearchRetriever\n",
    "from haystack.nodes import FARMReader\n",
    "\n",
    "retriever = ElasticsearchRetriever(doc_store)  # BM25\n",
    "reader = FARMReader(model_name_or_path='deepset/bert-base-cased-squad2',\n",
    "                    context_window_size=1500,\n",
    "                    use_gpu=True)"
   ]
  },
  {
   "cell_type": "markdown",
   "metadata": {},
   "source": [
    "And now we initialize our ODQA pipeline."
   ]
  },
  {
   "cell_type": "code",
   "execution_count": 15,
   "metadata": {},
   "outputs": [],
   "source": [
    "from haystack.pipelines import ExtractiveQAPipeline\n",
    "\n",
    "qa = ExtractiveQAPipeline(reader=reader, retriever=retriever)"
   ]
  },
  {
   "cell_type": "markdown",
   "metadata": {},
   "source": [
    "Now we can begin asking questions!"
   ]
  },
  {
   "cell_type": "code",
   "execution_count": 16,
   "metadata": {
    "scrolled": true
   },
   "outputs": [
    {
     "data": {
      "application/vnd.jupyter.widget-view+json": {
       "model_id": "823acee8e21747c4925ab9b30f49fe9f",
       "version_major": 2,
       "version_minor": 0
      },
      "text/plain": [
       "Inferencing Samples:   0%|          | 0/1 [00:00<?, ? Batches/s]"
      ]
     },
     "metadata": {},
     "output_type": "display_data"
    },
    {
     "data": {
      "text/plain": [
       "{'query': 'What did your grandfather teach?',\n",
       " 'no_ans_gap': -3.1212730407714844,\n",
       " 'answers': [<Answer {'answer': 'good morals and the government of my temper', 'type': 'extractive', 'score': 0.1665739268064499, 'context': 'From my grandfather Verus I learned good morals and the government of my temper.', 'offsets_in_document': [{'start': 36, 'end': 79}], 'offsets_in_context': [{'start': 36, 'end': 79}], 'document_id': 'ecc466cb76ed8dedab8752cc84e411b4', 'meta': {'source': 'meditations'}}>,\n",
       "  <Answer {'answer': 'thy life under thy mother', 'type': 'extractive', 'score': 0.024128973484039307, 'context': 'Termination of activity, cessation from movement and opinion, and in a sense their death, is no evil. Turn thy thoughts now to the consideration of thy life, thy life as a child, as a youth, thy manhood, thy old age, for in these also every change was a death. Is this anything to fear? Turn thy thoughts now to thy life under thy grandfather, then to thy life under thy mother, then to thy life under thy father; and as thou findest many other differences and changes and terminations, ask thyself, Is this anything to fear? In like manner, then, neither are the termination and cessation and change of thy whole life a thing to be afraid of.', 'offsets_in_document': [{'start': 352, 'end': 377}], 'offsets_in_context': [{'start': 352, 'end': 377}], 'document_id': 'c18a0187633896c0b4275e044bf742ee', 'meta': {'source': 'meditations'}}>,\n",
       "  <Answer {'answer': 'good teachers', 'type': 'extractive', 'score': 0.011039051227271557, 'context': 'From my great-grandfather, not to have frequented public schools, and to have had good teachers at home, and to know that on such things a man should spend liberally.', 'offsets_in_document': [{'start': 82, 'end': 95}], 'offsets_in_context': [{'start': 82, 'end': 95}], 'document_id': '366d76bbaee1f45066c8986efe265a0b', 'meta': {'source': 'meditations'}}>,\n",
       "  <Answer {'answer': 'self-government', 'type': 'extractive', 'score': 0.004011628217995167, 'context': 'From Maximus I learned self-government, and not to be led aside by anything; and cheerfulness in all circumstances, as well as in illness; and a just admixture in the moral character of sweetness and dignity, and to do what was set before me without complaining. I observed that everybody believed that he thought as he spoke, and that in all that he did he never had any bad intention; and he never showed amazement and surprise, and was never in a hurry, and never put off doing a thing, nor was perplexed nor dejected, nor did he ever laugh to disguise his vexation, nor, on the other hand, was he ever passionate or suspicious. He was accustomed to do acts of beneficence, and was ready to forgive, and was free from all falsehood; and he presented the appearance of a man who could not be diverted from right rather than of a man who had been improved. I observed, too, that no man could ever think that he was despised by Maximus, or ever venture to think himself a better man. He had also the art of being humorous in an agreeable way.', 'offsets_in_document': [{'start': 23, 'end': 38}], 'offsets_in_context': [{'start': 23, 'end': 38}], 'document_id': '798a2fd2d075fe24606a777f348aca3d', 'meta': {'source': 'meditations'}}>,\n",
       "  <Answer {'answer': 'Teach them then or bear', 'type': 'extractive', 'score': 0.003927591256797314, 'context': 'Men exist for the sake of one another. Teach them then or bear with them.', 'offsets_in_document': [{'start': 39, 'end': 62}], 'offsets_in_context': [{'start': 39, 'end': 62}], 'document_id': '2150cbb98d0d573101968513d7fb4af', 'meta': {'source': 'meditations'}}>,\n",
       "  <Answer {'answer': 'to be themselves praised by posterity, by those whom they have never seen or ever will see, this they set much value on. But this is very much the same as if thou shouldst be grieved because those who have lived before thee did not praise thee', 'type': 'extractive', 'score': 0.00030686892569065094, 'context': 'How strangely men act. They will not praise those who are living at the same time and living with themselves; but to be themselves praised by posterity, by those whom they have never seen or ever will see, this they set much value on. But this is very much the same as if thou shouldst be grieved because those who have lived before thee did not praise thee.', 'offsets_in_document': [{'start': 114, 'end': 357}], 'offsets_in_context': [{'start': 114, 'end': 357}], 'document_id': '3ea45896a0ea4ae48663003a48029424', 'meta': {'source': 'meditations'}}>,\n",
       "  <Answer {'answer': 'philosophy', 'type': 'extractive', 'score': 0.0003028765204362571, 'context': 'Epicurus says, In my sickness my conversation was not about my bodily sufferings, nor, says he, did I talk on such subjects to those who visited me; but I continued to discourse on the nature of things as before, keeping to this main point, how the mind, while participating in such movements as go on in the poor flesh, shall be free from perturbations and maintain its proper good. Nor did I, he says, give the physicians an opportunity of putting on solemn looks, as if they were doing something great, but my life went on well and happily. Do, then, the same that he did both in sickness, if thou art sick, and in any other circumstances; for never to desert philosophy in any events that may befall us, nor to hold trifling talk either with an ignorant man or with one unacquainted with nature, is a principle of all schools of philosophy; but to be intent only on that which thou art now doing and on the instrument by which thou doest it.', 'offsets_in_document': [{'start': 663, 'end': 673}], 'offsets_in_context': [{'start': 663, 'end': 673}], 'document_id': 'b88b5ac821f7c6a2ae636cce2d882f88', 'meta': {'source': 'meditations'}}>,\n",
       "  <Answer {'answer': 'nature and profitable', 'type': 'extractive', 'score': 0.00016086408868432045, 'context': 'How cruel it is not to allow men to strive after the things which appear to them to be suitable to their nature and profitable! And yet in a manner thou dost not allow them to do this, when thou art vexed because they do wrong. For they are certainly moved towards things because they suppose them to be suitable to their nature and profitable to them.- But it is not so.- Teach them then, and show them without being angry.', 'offsets_in_document': [{'start': 105, 'end': 126}], 'offsets_in_context': [{'start': 105, 'end': 126}], 'document_id': '8149dd43100c073a25aeec95588ac011', 'meta': {'source': 'meditations'}}>,\n",
       "  <Answer {'answer': 'foul smell and blood in a bag', 'type': 'extractive', 'score': 0.00011568680201889947, 'context': 'Does Panthea or Pergamus now sit by the tomb of Verus? Does Chaurias or Diotimus sit by the tomb of Hadrian? That would be ridiculous. Well, suppose they did sit there, would the dead be conscious of it? And if the dead were conscious, would they be pleased? And if they were pleased, would that make them immortal? Was it not in the order of destiny that these persons too should first become old women and old men and then die? What then would those do after these were dead? All this is foul smell and blood in a bag.', 'offsets_in_document': [{'start': 490, 'end': 519}], 'offsets_in_context': [{'start': 490, 'end': 519}], 'document_id': 'dd42d5594f0dc8416537a3b3c1f1d61c', 'meta': {'source': 'meditations'}}>,\n",
       "  <Answer {'answer': 'fig-tree to have juice', 'type': 'extractive', 'score': 5.674814383382909e-05, 'context': 'It is natural that these things should be done by such persons, it is a matter of necessity; and if a man will not have it so, he will not allow the fig-tree to have juice. But by all means bear this in mind, that within a very short time both thou and he will be dead; and soon not even your names will be left behind.', 'offsets_in_document': [{'start': 149, 'end': 171}], 'offsets_in_context': [{'start': 149, 'end': 171}], 'document_id': 'c8f99a89c5399c2ad0a001747f8db0d1', 'meta': {'source': 'meditations'}}>],\n",
       " 'documents': [<Document: {'content': 'Men exist for the sake of one another. Teach them then or bear with them.', 'content_type': 'text', 'score': 0.7322221779074343, 'meta': {'source': 'meditations'}, 'id_hash_keys': ['content'], 'embedding': None, 'id': '2150cbb98d0d573101968513d7fb4af'}>,\n",
       "  <Document: {'content': 'From my grandfather Verus I learned good morals and the government of my temper.', 'content_type': 'text', 'score': 0.7208915763758528, 'meta': {'source': 'meditations'}, 'id_hash_keys': ['content'], 'embedding': None, 'id': 'ecc466cb76ed8dedab8752cc84e411b4'}>,\n",
       "  <Document: {'content': 'From my great-grandfather, not to have frequented public schools, and to have had good teachers at home, and to know that on such things a man should spend liberally.', 'content_type': 'text', 'score': 0.7011058050766118, 'meta': {'source': 'meditations'}, 'id_hash_keys': ['content'], 'embedding': None, 'id': '366d76bbaee1f45066c8986efe265a0b'}>,\n",
       "  <Document: {'content': 'It is natural that these things should be done by such persons, it is a matter of necessity; and if a man will not have it so, he will not allow the fig-tree to have juice. But by all means bear this in mind, that within a very short time both thou and he will be dead; and soon not even your names will be left behind.', 'content_type': 'text', 'score': 0.6908060010236104, 'meta': {'source': 'meditations'}, 'id_hash_keys': ['content'], 'embedding': None, 'id': 'c8f99a89c5399c2ad0a001747f8db0d1'}>,\n",
       "  <Document: {'content': 'How cruel it is not to allow men to strive after the things which appear to them to be suitable to their nature and profitable! And yet in a manner thou dost not allow them to do this, when thou art vexed because they do wrong. For they are certainly moved towards things because they suppose them to be suitable to their nature and profitable to them.- But it is not so.- Teach them then, and show them without being angry.', 'content_type': 'text', 'score': 0.6661904567030548, 'meta': {'source': 'meditations'}, 'id_hash_keys': ['content'], 'embedding': None, 'id': '8149dd43100c073a25aeec95588ac011'}>,\n",
       "  <Document: {'content': 'Epicurus says, In my sickness my conversation was not about my bodily sufferings, nor, says he, did I talk on such subjects to those who visited me; but I continued to discourse on the nature of things as before, keeping to this main point, how the mind, while participating in such movements as go on in the poor flesh, shall be free from perturbations and maintain its proper good. Nor did I, he says, give the physicians an opportunity of putting on solemn looks, as if they were doing something great, but my life went on well and happily. Do, then, the same that he did both in sickness, if thou art sick, and in any other circumstances; for never to desert philosophy in any events that may befall us, nor to hold trifling talk either with an ignorant man or with one unacquainted with nature, is a principle of all schools of philosophy; but to be intent only on that which thou art now doing and on the instrument by which thou doest it.', 'content_type': 'text', 'score': 0.6510449397543675, 'meta': {'source': 'meditations'}, 'id_hash_keys': ['content'], 'embedding': None, 'id': 'b88b5ac821f7c6a2ae636cce2d882f88'}>,\n",
       "  <Document: {'content': 'From Maximus I learned self-government, and not to be led aside by anything; and cheerfulness in all circumstances, as well as in illness; and a just admixture in the moral character of sweetness and dignity, and to do what was set before me without complaining. I observed that everybody believed that he thought as he spoke, and that in all that he did he never had any bad intention; and he never showed amazement and surprise, and was never in a hurry, and never put off doing a thing, nor was perplexed nor dejected, nor did he ever laugh to disguise his vexation, nor, on the other hand, was he ever passionate or suspicious. He was accustomed to do acts of beneficence, and was ready to forgive, and was free from all falsehood; and he presented the appearance of a man who could not be diverted from right rather than of a man who had been improved. I observed, too, that no man could ever think that he was despised by Maximus, or ever venture to think himself a better man. He had also the art of being humorous in an agreeable way.', 'content_type': 'text', 'score': 0.6425392669963337, 'meta': {'source': 'meditations'}, 'id_hash_keys': ['content'], 'embedding': None, 'id': '798a2fd2d075fe24606a777f348aca3d'}>,\n",
       "  <Document: {'content': 'Does Panthea or Pergamus now sit by the tomb of Verus? Does Chaurias or Diotimus sit by the tomb of Hadrian? That would be ridiculous. Well, suppose they did sit there, would the dead be conscious of it? And if the dead were conscious, would they be pleased? And if they were pleased, would that make them immortal? Was it not in the order of destiny that these persons too should first become old women and old men and then die? What then would those do after these were dead? All this is foul smell and blood in a bag.', 'content_type': 'text', 'score': 0.6408262431774636, 'meta': {'source': 'meditations'}, 'id_hash_keys': ['content'], 'embedding': None, 'id': 'dd42d5594f0dc8416537a3b3c1f1d61c'}>,\n",
       "  <Document: {'content': 'Termination of activity, cessation from movement and opinion, and in a sense their death, is no evil. Turn thy thoughts now to the consideration of thy life, thy life as a child, as a youth, thy manhood, thy old age, for in these also every change was a death. Is this anything to fear? Turn thy thoughts now to thy life under thy grandfather, then to thy life under thy mother, then to thy life under thy father; and as thou findest many other differences and changes and terminations, ask thyself, Is this anything to fear? In like manner, then, neither are the termination and cessation and change of thy whole life a thing to be afraid of.', 'content_type': 'text', 'score': 0.6366416815738632, 'meta': {'source': 'meditations'}, 'id_hash_keys': ['content'], 'embedding': None, 'id': 'c18a0187633896c0b4275e044bf742ee'}>,\n",
       "  <Document: {'content': 'How strangely men act. They will not praise those who are living at the same time and living with themselves; but to be themselves praised by posterity, by those whom they have never seen or ever will see, this they set much value on. But this is very much the same as if thou shouldst be grieved because those who have lived before thee did not praise thee.', 'content_type': 'text', 'score': 0.6277992522181182, 'meta': {'source': 'meditations'}, 'id_hash_keys': ['content'], 'embedding': None, 'id': '3ea45896a0ea4ae48663003a48029424'}>],\n",
       " 'root_node': 'Query',\n",
       " 'params': {},\n",
       " 'node_id': 'Reader'}"
      ]
     },
     "execution_count": 16,
     "metadata": {},
     "output_type": "execute_result"
    }
   ],
   "source": [
    "qa.run(query='What did your grandfather teach?')"
   ]
  },
  {
   "cell_type": "code",
   "execution_count": 17,
   "metadata": {},
   "outputs": [
    {
     "data": {
      "application/vnd.jupyter.widget-view+json": {
       "model_id": "9ae1a6cf839f4c93b531678fa95a9c80",
       "version_major": 2,
       "version_minor": 0
      },
      "text/plain": [
       "Inferencing Samples:   0%|          | 0/1 [00:00<?, ? Batches/s]"
      ]
     },
     "metadata": {},
     "output_type": "display_data"
    },
    {
     "data": {
      "text/plain": [
       "{'query': 'What is the Universe?',\n",
       " 'no_ans_gap': 9.20612382888794,\n",
       " 'answers': [<Answer {'answer': 'the universe loves to make whatever is about to be', 'type': 'extractive', 'score': 0.7264755964279175, 'context': '\"The earth loves the shower\"; and \"the solemn aether loves\": and the universe loves to make whatever is about to be. I say then to the universe, that I love as thou lovest. And is not this too said, that \"this or that loves (is wont) to be produced\"?', 'offsets_in_document': [{'start': 65, 'end': 115}], 'offsets_in_context': [{'start': 65, 'end': 115}], 'document_id': 'dfe112a37a09939594906ff8a0d7be8a', 'meta': {'source': 'meditations'}}>,\n",
       "  <Answer {'answer': 'a well-arranged universe', 'type': 'extractive', 'score': 0.7179005146026611, 'context': 'Either it is a well-arranged universe or a chaos huddled together, but still a universe. But can a certain order subsist in thee, and disorder in the All? And this too when all things are so separated and diffused and sympathetic.', 'offsets_in_document': [{'start': 13, 'end': 37}], 'offsets_in_context': [{'start': 13, 'end': 37}], 'document_id': '5713bc9e6d666128d475dc121a4747db', 'meta': {'source': 'meditations'}}>,\n",
       "  <Answer {'answer': 'universe', 'type': 'extractive', 'score': 0.4245387613773346, 'context': 'What is thy art? To be good. And how is this accomplished well except by general principles, some about the nature of the universe, and others about the proper constitution of man?', 'offsets_in_document': [{'start': 122, 'end': 130}], 'offsets_in_context': [{'start': 122, 'end': 130}], 'document_id': 'd82018bb6d9e387d13e62efe36f458c6', 'meta': {'source': 'meditations'}}>,\n",
       "  <Answer {'answer': 'universe', 'type': 'extractive', 'score': 0.3780076801776886, 'context': 'Remember how long thou hast been putting off these things, and how often thou hast received an opportunity from the gods, and yet dost not use it. Thou must now at last perceive of what universe thou art a part, and of what administrator of the universe thy existence is an efflux, and that a limit of time is fixed for thee, which if thou dost not use for clearing away the clouds from thy mind, it will go and thou wilt go, and it will never return.', 'offsets_in_document': [{'start': 186, 'end': 194}], 'offsets_in_context': [{'start': 186, 'end': 194}], 'document_id': '7d3c268229411f9221435078678cd8e5', 'meta': {'source': 'meditations'}}>,\n",
       "  <Answer {'answer': 'That which knows beginning and end, and knows the reason which pervades all substance and through all time by fixed periods (revolutions) administers the universe.', 'type': 'extractive', 'score': 0.36527758836746216, 'context': 'Why do unskilled and ignorant souls disturb him who has skill and knowledge? What soul then has skill and knowledge? That which knows beginning and end, and knows the reason which pervades all substance and through all time by fixed periods (revolutions) administers the universe.', 'offsets_in_document': [{'start': 117, 'end': 280}], 'offsets_in_context': [{'start': 117, 'end': 280}], 'document_id': 'fdfbd83989326d4823446124173996a7', 'meta': {'source': 'meditations'}}>,\n",
       "  <Answer {'answer': 'Providence', 'type': 'extractive', 'score': 0.1616930365562439, 'context': 'All that is from the gods is full of Providence. That which is from fortune is not separated from nature or without an interweaving and involution with the things which are ordered by Providence. From thence all things flow; and there is besides necessity, and that which is for the advantage of the whole universe, of which thou art a part. But that is good for every part of nature which the nature of the whole brings, and what serves to maintain this nature. Now the universe is preserved, as by the changes of the elements so by the changes of things compounded of the elements. Let these principles be enough for thee, let them always be fixed opinions. But cast away the thirst after books, that thou mayest not die murmuring, but cheerfully, truly, and from thy heart thankful to the gods.', 'offsets_in_document': [{'start': 37, 'end': 47}], 'offsets_in_context': [{'start': 37, 'end': 47}], 'document_id': 'a79aed22688be005626d031d7cbd42c', 'meta': {'source': 'meditations'}}>,\n",
       "  <Answer {'answer': 'That which has died falls not out of the universe', 'type': 'extractive', 'score': 0.10672876238822937, 'context': 'That which has died falls not out of the universe. If it stays here, it also changes here, and is dissolved into its proper parts, which are elements of the universe and of thyself. And these too change, and they murmur not.', 'offsets_in_document': [{'start': 0, 'end': 49}], 'offsets_in_context': [{'start': 0, 'end': 49}], 'document_id': '55bee612c9263b42352b42fa41775f2', 'meta': {'source': 'meditations'}}>,\n",
       "  <Answer {'answer': 'universe', 'type': 'extractive', 'score': 0.07877828925848007, 'context': 'We are all working together to one end, some with knowledge and design, and others without knowing what they do; as men also when they are asleep, of whom it is Heraclitus, I think, who says that they are labourers and co-operators in the things which take place in the universe. But men co-operate after different fashions: and even those co-operate abundantly, who find fault with what happens and those who try to oppose it and to hinder it; for the universe had need even of such men as these. It remains then for thee to understand among what kind of workmen thou placest thyself; for he who rules all things will certainly make a right use of thee, and he will receive thee among some part of the co-operators and of those whose labours conduce to one end. But be not thou such a part as the mean and ridiculous verse in the play, which Chrysippus speaks of.', 'offsets_in_document': [{'start': 270, 'end': 278}], 'offsets_in_context': [{'start': 270, 'end': 278}], 'document_id': '7a46e35eb69b9a80999773a33b057bd6', 'meta': {'source': 'meditations'}}>,\n",
       "  <Answer {'answer': 'the universe', 'type': 'extractive', 'score': 0.04436681419610977, 'context': 'Hasten to examine thy own ruling faculty and that of the universe and that of thy neighbour: thy own that thou mayest make it just: and that of the universe, that thou mayest remember of what thou art a part; and that of thy neighbour, that thou mayest know whether he has acted ignorantly or with knowledge, and that thou mayest also consider that his ruling faculty is akin to thine.', 'offsets_in_document': [{'start': 53, 'end': 65}], 'offsets_in_context': [{'start': 53, 'end': 65}], 'document_id': '815cde909b0c6c4162ea851a48cc74f1', 'meta': {'source': 'meditations'}}>,\n",
       "  <Answer {'answer': 'universe who does not know what is in it, no less is he a stranger who does not know what is going on in it. He is a runaway, who flies from social reason; he is blind, who shuts the eyes of the understanding; he is poor, who has need of another, and has not from himself all things which are useful for life. He is an abscess on the universe', 'type': 'extractive', 'score': 0.011836884543299675, 'context': 'If he is a stranger to the universe who does not know what is in it, no less is he a stranger who does not know what is going on in it. He is a runaway, who flies from social reason; he is blind, who shuts the eyes of the understanding; he is poor, who has need of another, and has not from himself all things which are useful for life. He is an abscess on the universe who withdraws and separates himself from the reason of our common nature through being displeased with the things which happen, for the same nature produces this, and has produced thee too: he is a piece rent asunder from the state, who tears his own soul from that of reasonable animals, which is one.', 'offsets_in_document': [{'start': 27, 'end': 369}], 'offsets_in_context': [{'start': 27, 'end': 369}], 'document_id': '24c34422b3a8240dd7aaf58f6ad66a46', 'meta': {'source': 'meditations'}}>],\n",
       " 'documents': [<Document: {'content': 'What is thy art? To be good. And how is this accomplished well except by general principles, some about the nature of the universe, and others about the proper constitution of man?', 'content_type': 'text', 'score': 0.6584029097715121, 'meta': {'source': 'meditations'}, 'id_hash_keys': ['content'], 'embedding': None, 'id': 'd82018bb6d9e387d13e62efe36f458c6'}>,\n",
       "  <Document: {'content': 'Remember how long thou hast been putting off these things, and how often thou hast received an opportunity from the gods, and yet dost not use it. Thou must now at last perceive of what universe thou art a part, and of what administrator of the universe thy existence is an efflux, and that a limit of time is fixed for thee, which if thou dost not use for clearing away the clouds from thy mind, it will go and thou wilt go, and it will never return.', 'content_type': 'text', 'score': 0.6565670951095068, 'meta': {'source': 'meditations'}, 'id_hash_keys': ['content'], 'embedding': None, 'id': '7d3c268229411f9221435078678cd8e5'}>,\n",
       "  <Document: {'content': 'Hasten to examine thy own ruling faculty and that of the universe and that of thy neighbour: thy own that thou mayest make it just: and that of the universe, that thou mayest remember of what thou art a part; and that of thy neighbour, that thou mayest know whether he has acted ignorantly or with knowledge, and that thou mayest also consider that his ruling faculty is akin to thine.', 'content_type': 'text', 'score': 0.6516674479860318, 'meta': {'source': 'meditations'}, 'id_hash_keys': ['content'], 'embedding': None, 'id': '815cde909b0c6c4162ea851a48cc74f1'}>,\n",
       "  <Document: {'content': 'If he is a stranger to the universe who does not know what is in it, no less is he a stranger who does not know what is going on in it. He is a runaway, who flies from social reason; he is blind, who shuts the eyes of the understanding; he is poor, who has need of another, and has not from himself all things which are useful for life. He is an abscess on the universe who withdraws and separates himself from the reason of our common nature through being displeased with the things which happen, for the same nature produces this, and has produced thee too: he is a piece rent asunder from the state, who tears his own soul from that of reasonable animals, which is one.', 'content_type': 'text', 'score': 0.6484164714098906, 'meta': {'source': 'meditations'}, 'id_hash_keys': ['content'], 'embedding': None, 'id': '24c34422b3a8240dd7aaf58f6ad66a46'}>,\n",
       "  <Document: {'content': 'We are all working together to one end, some with knowledge and design, and others without knowing what they do; as men also when they are asleep, of whom it is Heraclitus, I think, who says that they are labourers and co-operators in the things which take place in the universe. But men co-operate after different fashions: and even those co-operate abundantly, who find fault with what happens and those who try to oppose it and to hinder it; for the universe had need even of such men as these. It remains then for thee to understand among what kind of workmen thou placest thyself; for he who rules all things will certainly make a right use of thee, and he will receive thee among some part of the co-operators and of those whose labours conduce to one end. But be not thou such a part as the mean and ridiculous verse in the play, which Chrysippus speaks of.', 'content_type': 'text', 'score': 0.6360579328986599, 'meta': {'source': 'meditations'}, 'id_hash_keys': ['content'], 'embedding': None, 'id': '7a46e35eb69b9a80999773a33b057bd6'}>,\n",
       "  <Document: {'content': 'All that is from the gods is full of Providence. That which is from fortune is not separated from nature or without an interweaving and involution with the things which are ordered by Providence. From thence all things flow; and there is besides necessity, and that which is for the advantage of the whole universe, of which thou art a part. But that is good for every part of nature which the nature of the whole brings, and what serves to maintain this nature. Now the universe is preserved, as by the changes of the elements so by the changes of things compounded of the elements. Let these principles be enough for thee, let them always be fixed opinions. But cast away the thirst after books, that thou mayest not die murmuring, but cheerfully, truly, and from thy heart thankful to the gods.', 'content_type': 'text', 'score': 0.6348662507025461, 'meta': {'source': 'meditations'}, 'id_hash_keys': ['content'], 'embedding': None, 'id': 'a79aed22688be005626d031d7cbd42c'}>,\n",
       "  <Document: {'content': '\"The earth loves the shower\"; and \"the solemn aether loves\": and the universe loves to make whatever is about to be. I say then to the universe, that I love as thou lovest. And is not this too said, that \"this or that loves (is wont) to be produced\"?', 'content_type': 'text', 'score': 0.6348143524270251, 'meta': {'source': 'meditations'}, 'id_hash_keys': ['content'], 'embedding': None, 'id': 'dfe112a37a09939594906ff8a0d7be8a'}>,\n",
       "  <Document: {'content': 'Why do unskilled and ignorant souls disturb him who has skill and knowledge? What soul then has skill and knowledge? That which knows beginning and end, and knows the reason which pervades all substance and through all time by fixed periods (revolutions) administers the universe.', 'content_type': 'text', 'score': 0.6326689931093179, 'meta': {'source': 'meditations'}, 'id_hash_keys': ['content'], 'embedding': None, 'id': 'fdfbd83989326d4823446124173996a7'}>,\n",
       "  <Document: {'content': 'That which has died falls not out of the universe. If it stays here, it also changes here, and is dissolved into its proper parts, which are elements of the universe and of thyself. And these too change, and they murmur not.', 'content_type': 'text', 'score': 0.6311690498237554, 'meta': {'source': 'meditations'}, 'id_hash_keys': ['content'], 'embedding': None, 'id': '55bee612c9263b42352b42fa41775f2'}>,\n",
       "  <Document: {'content': 'Either it is a well-arranged universe or a chaos huddled together, but still a universe. But can a certain order subsist in thee, and disorder in the All? And this too when all things are so separated and diffused and sympathetic.', 'content_type': 'text', 'score': 0.6294849690921902, 'meta': {'source': 'meditations'}, 'id_hash_keys': ['content'], 'embedding': None, 'id': '5713bc9e6d666128d475dc121a4747db'}>],\n",
       " 'root_node': 'Query',\n",
       " 'params': {},\n",
       " 'node_id': 'Reader'}"
      ]
     },
     "execution_count": 17,
     "metadata": {},
     "output_type": "execute_result"
    }
   ],
   "source": [
    "qa.run(query='What is the Universe?')"
   ]
  },
  {
   "cell_type": "code",
   "execution_count": 18,
   "metadata": {},
   "outputs": [
    {
     "data": {
      "application/vnd.jupyter.widget-view+json": {
       "model_id": "1a9af2317edf464c96a7e4a8f1d665a8",
       "version_major": 2,
       "version_minor": 0
      },
      "text/plain": [
       "Inferencing Samples:   0%|          | 0/1 [00:00<?, ? Batches/s]"
      ]
     },
     "metadata": {},
     "output_type": "display_data"
    },
    {
     "data": {
      "text/plain": [
       "{'query': 'What is art?',\n",
       " 'no_ans_gap': 4.066233158111572,\n",
       " 'answers': [<Answer {'answer': 'To be good', 'type': 'extractive', 'score': 0.7172235250473022, 'context': 'What is thy art? To be good. And how is this accomplished well except by general principles, some about the nature of the universe, and others about the proper constitution of man?', 'offsets_in_document': [{'start': 17, 'end': 27}], 'offsets_in_context': [{'start': 17, 'end': 27}], 'document_id': 'd82018bb6d9e387d13e62efe36f458c6', 'meta': {'source': 'meditations'}}>,\n",
       "  <Answer {'answer': 'the acts of life', 'type': 'extractive', 'score': 0.5413743853569031, 'context': 'Let it make no difference to thee whether thou art cold or warm, if thou art doing thy duty; and whether thou art drowsy or satisfied with sleep; and whether ill-spoken of or praised; and whether dying or doing something else. For it is one of the acts of life, this act by which we die: it is sufficient then in this act also to do well what we have in hand.', 'offsets_in_document': [{'start': 244, 'end': 260}], 'offsets_in_context': [{'start': 244, 'end': 260}], 'document_id': 'b2aab30edd46db70e9e898eecb2de061', 'meta': {'source': 'meditations'}}>,\n",
       "  <Answer {'answer': 'money', 'type': 'extractive', 'score': 0.3574577569961548, 'context': \"When thou art offended at any man's fault, forthwith turn to thyself and reflect in what like manner thou dost err thyself; for example, in thinking that money is a good thing, or pleasure, or a bit of reputation, and the like. For by attending to this thou wilt quickly forget thy anger, if this consideration also is added, that the man is compelled: for what else could he do? or, if thou art able, take away from him the compulsion.\", 'offsets_in_document': [{'start': 154, 'end': 159}], 'offsets_in_context': [{'start': 154, 'end': 159}], 'document_id': 'ebc74f761b8f9c9d91272e32736224d', 'meta': {'source': 'meditations'}}>,\n",
       "  <Answer {'answer': 'playing the hypocrite', 'type': 'extractive', 'score': 0.33256658911705017, 'context': 'Either all things proceed from one intelligent source and come together as in one body, and the part ought not to find fault with what is done for the benefit of the whole; or there are only atoms, and nothing else than mixture and dispersion. Why, then, art thou disturbed? Say to the ruling faculty, Art thou dead, art thou corrupted, art thou playing the hypocrite, art thou become a beast, dost thou herd and feed with the rest?', 'offsets_in_document': [{'start': 346, 'end': 367}], 'offsets_in_context': [{'start': 346, 'end': 367}], 'document_id': '125b27edef6454a6740ac9036d42d748', 'meta': {'source': 'meditations'}}>,\n",
       "  <Answer {'answer': 'thou art governed by nature', 'type': 'extractive', 'score': 0.2618841528892517, 'context': 'Observe what thy nature requires, so far as thou art governed by nature only: then do it and accept it, if thy nature, so far as thou art a living being, shall not be made worse by it.', 'offsets_in_document': [{'start': 44, 'end': 71}], 'offsets_in_context': [{'start': 44, 'end': 71}], 'document_id': '55dd4d8cb78e0d6c58033018a20523f0', 'meta': {'source': 'meditations'}}>,\n",
       "  <Answer {'answer': 'thou wilt see what judges', 'type': 'extractive', 'score': 0.1747250109910965, 'context': \"Penetrate inwards into men's leading principles, and thou wilt see what judges thou art afraid of, and what kind of judges they are of themselves.\", 'offsets_in_document': [{'start': 53, 'end': 78}], 'offsets_in_context': [{'start': 53, 'end': 78}], 'document_id': '54882f2d9a4f19417d272341437c93aa', 'meta': {'source': 'meditations'}}>,\n",
       "  <Answer {'answer': 'rational animal', 'type': 'extractive', 'score': 0.10420888662338257, 'context': 'And next thou must observe what thy nature requires so far as thou art a living being. And all this thou mayest allow thyself, if thy nature, so far as thou art a rational animal, shall not be made worse by it. But the rational animal is consequently also a political (social) animal. Use these rules, then, and trouble thyself about nothing else.', 'offsets_in_document': [{'start': 163, 'end': 178}], 'offsets_in_context': [{'start': 163, 'end': 178}], 'document_id': 'bb549bda1912cd07c8428c7d6882ff91', 'meta': {'source': 'meditations'}}>,\n",
       "  <Answer {'answer': 'happiness) is a good daemon, or a good thing. What then art thou doing here, O imagination? Go away, I entreat thee by the gods, as thou didst come, for I want thee not. But thou art come according to thy old fashion', 'type': 'extractive', 'score': 0.08613114058971405, 'context': 'Eudaemonia (happiness) is a good daemon, or a good thing. What then art thou doing here, O imagination? Go away, I entreat thee by the gods, as thou didst come, for I want thee not. But thou art come according to thy old fashion. I am not angry with thee: only go away.', 'offsets_in_document': [{'start': 12, 'end': 228}], 'offsets_in_context': [{'start': 12, 'end': 228}], 'document_id': '412629757bc36aee1e597886866c661', 'meta': {'source': 'meditations'}}>,\n",
       "  <Answer {'answer': 'nature of the whole', 'type': 'extractive', 'score': 0.06715454161167145, 'context': 'This thou must always bear in mind, what is the nature of the whole, and what is my nature, and how this is related to that, and what kind of a part it is of what kind of a whole; and that there is no one who hinders thee from always doing and saying the things which are according to the nature of which thou art a part.', 'offsets_in_document': [{'start': 48, 'end': 67}], 'offsets_in_context': [{'start': 48, 'end': 67}], 'document_id': 'a30eabf5ca48a12da0931f41efde6402', 'meta': {'source': 'meditations'}}>,\n",
       "  <Answer {'answer': 'evil is it to thee, if thou art now doing what is agreeable to thy own nature', 'type': 'extractive', 'score': 0.0014844706747680902, 'context': 'Suppose any man shall despise me. Let him look to that himself. But I will look to this, that I be not discovered doing or saying anything deserving of contempt. Shall any man hate me? Let him look to it. But I will be mild and benevolent towards every man, and ready to show even him his mistake, not reproachfully, nor yet as making a display of my endurance, but nobly and honestly, like the great Phocion, unless indeed he only assumed it. For the interior parts ought to be such, and a man ought to be seen by the gods neither dissatisfied with anything nor complaining. For what evil is it to thee, if thou art now doing what is agreeable to thy own nature, and art satisfied with that which at this moment is suitable to the nature of the universe, since thou art a human being placed at thy post in order that what is for the common advantage may be done in some way?', 'offsets_in_document': [{'start': 585, 'end': 662}], 'offsets_in_context': [{'start': 585, 'end': 662}], 'document_id': 'b785e1fe40876e1b5b9a99b0f7cff3a0', 'meta': {'source': 'meditations'}}>],\n",
       " 'documents': [<Document: {'content': 'Either all things proceed from one intelligent source and come together as in one body, and the part ought not to find fault with what is done for the benefit of the whole; or there are only atoms, and nothing else than mixture and dispersion. Why, then, art thou disturbed? Say to the ruling faculty, Art thou dead, art thou corrupted, art thou playing the hypocrite, art thou become a beast, dost thou herd and feed with the rest?', 'content_type': 'text', 'score': 0.6437801352289797, 'meta': {'source': 'meditations'}, 'id_hash_keys': ['content'], 'embedding': None, 'id': '125b27edef6454a6740ac9036d42d748'}>,\n",
       "  <Document: {'content': 'Let it make no difference to thee whether thou art cold or warm, if thou art doing thy duty; and whether thou art drowsy or satisfied with sleep; and whether ill-spoken of or praised; and whether dying or doing something else. For it is one of the acts of life, this act by which we die: it is sufficient then in this act also to do well what we have in hand.', 'content_type': 'text', 'score': 0.6389293957178719, 'meta': {'source': 'meditations'}, 'id_hash_keys': ['content'], 'embedding': None, 'id': 'b2aab30edd46db70e9e898eecb2de061'}>,\n",
       "  <Document: {'content': \"When thou art offended at any man's fault, forthwith turn to thyself and reflect in what like manner thou dost err thyself; for example, in thinking that money is a good thing, or pleasure, or a bit of reputation, and the like. For by attending to this thou wilt quickly forget thy anger, if this consideration also is added, that the man is compelled: for what else could he do? or, if thou art able, take away from him the compulsion.\", 'content_type': 'text', 'score': 0.638195306147741, 'meta': {'source': 'meditations'}, 'id_hash_keys': ['content'], 'embedding': None, 'id': 'ebc74f761b8f9c9d91272e32736224d'}>,\n",
       "  <Document: {'content': 'Eudaemonia (happiness) is a good daemon, or a good thing. What then art thou doing here, O imagination? Go away, I entreat thee by the gods, as thou didst come, for I want thee not. But thou art come according to thy old fashion. I am not angry with thee: only go away.', 'content_type': 'text', 'score': 0.6357531067109083, 'meta': {'source': 'meditations'}, 'id_hash_keys': ['content'], 'embedding': None, 'id': '412629757bc36aee1e597886866c661'}>,\n",
       "  <Document: {'content': 'This thou must always bear in mind, what is the nature of the whole, and what is my nature, and how this is related to that, and what kind of a part it is of what kind of a whole; and that there is no one who hinders thee from always doing and saying the things which are according to the nature of which thou art a part.', 'content_type': 'text', 'score': 0.6342889257626593, 'meta': {'source': 'meditations'}, 'id_hash_keys': ['content'], 'embedding': None, 'id': 'a30eabf5ca48a12da0931f41efde6402'}>,\n",
       "  <Document: {'content': 'What is thy art? To be good. And how is this accomplished well except by general principles, some about the nature of the universe, and others about the proper constitution of man?', 'content_type': 'text', 'score': 0.6339971989840243, 'meta': {'source': 'meditations'}, 'id_hash_keys': ['content'], 'embedding': None, 'id': 'd82018bb6d9e387d13e62efe36f458c6'}>,\n",
       "  <Document: {'content': \"Penetrate inwards into men's leading principles, and thou wilt see what judges thou art afraid of, and what kind of judges they are of themselves.\", 'content_type': 'text', 'score': 0.631946428913956, 'meta': {'source': 'meditations'}, 'id_hash_keys': ['content'], 'embedding': None, 'id': '54882f2d9a4f19417d272341437c93aa'}>,\n",
       "  <Document: {'content': 'Observe what thy nature requires, so far as thou art governed by nature only: then do it and accept it, if thy nature, so far as thou art a living being, shall not be made worse by it.', 'content_type': 'text', 'score': 0.6315240604531519, 'meta': {'source': 'meditations'}, 'id_hash_keys': ['content'], 'embedding': None, 'id': '55dd4d8cb78e0d6c58033018a20523f0'}>,\n",
       "  <Document: {'content': 'And next thou must observe what thy nature requires so far as thou art a living being. And all this thou mayest allow thyself, if thy nature, so far as thou art a rational animal, shall not be made worse by it. But the rational animal is consequently also a political (social) animal. Use these rules, then, and trouble thyself about nothing else.', 'content_type': 'text', 'score': 0.6314492146930177, 'meta': {'source': 'meditations'}, 'id_hash_keys': ['content'], 'embedding': None, 'id': 'bb549bda1912cd07c8428c7d6882ff91'}>,\n",
       "  <Document: {'content': 'Suppose any man shall despise me. Let him look to that himself. But I will look to this, that I be not discovered doing or saying anything deserving of contempt. Shall any man hate me? Let him look to it. But I will be mild and benevolent towards every man, and ready to show even him his mistake, not reproachfully, nor yet as making a display of my endurance, but nobly and honestly, like the great Phocion, unless indeed he only assumed it. For the interior parts ought to be such, and a man ought to be seen by the gods neither dissatisfied with anything nor complaining. For what evil is it to thee, if thou art now doing what is agreeable to thy own nature, and art satisfied with that which at this moment is suitable to the nature of the universe, since thou art a human being placed at thy post in order that what is for the common advantage may be done in some way?', 'content_type': 'text', 'score': 0.6289805857013065, 'meta': {'source': 'meditations'}, 'id_hash_keys': ['content'], 'embedding': None, 'id': 'b785e1fe40876e1b5b9a99b0f7cff3a0'}>],\n",
       " 'root_node': 'Query',\n",
       " 'params': {},\n",
       " 'node_id': 'Reader'}"
      ]
     },
     "execution_count": 18,
     "metadata": {},
     "output_type": "execute_result"
    }
   ],
   "source": [
    "qa.run(query='What is art?')"
   ]
  },
  {
   "cell_type": "markdown",
   "metadata": {},
   "source": [
    "Pretty cool stuff!"
   ]
  }
 ],
 "metadata": {
  "kernelspec": {
   "display_name": "ml",
   "language": "python",
   "name": "python3"
  },
  "language_info": {
   "codemirror_mode": {
    "name": "ipython",
    "version": 3
   },
   "file_extension": ".py",
   "mimetype": "text/x-python",
   "name": "python",
   "nbconvert_exporter": "python",
   "pygments_lexer": "ipython3",
   "version": "3.10.8"
  },
  "vscode": {
   "interpreter": {
    "hash": "1391c78cdb2b882534495952f3f111444461f5e64b567be19ee9da577c36e6be"
   }
  }
 },
 "nbformat": 4,
 "nbformat_minor": 4
}
